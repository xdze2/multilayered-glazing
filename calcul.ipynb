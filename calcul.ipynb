{
 "cells": [
  {
   "cell_type": "code",
   "execution_count": 58,
   "metadata": {},
   "outputs": [],
   "source": [
    "import numpy as np\n",
    "import matplotlib.pyplot as plt\n",
    "%matplotlib inline"
   ]
  },
  {
   "cell_type": "code",
   "execution_count": 10,
   "metadata": {},
   "outputs": [],
   "source": [
    "g = 9.81  # m/s"
   ]
  },
  {
   "cell_type": "code",
   "execution_count": 45,
   "metadata": {},
   "outputs": [],
   "source": [
    "class Gas(object):\n",
    " \n",
    "    def __init__(self, rho, lmbda, mu, Cp, beta):\n",
    " \n",
    "        self.rho = rho  # kg/m3\n",
    "        self.lmbda = lmbda  # W/m/K\n",
    "        self.mu = mu # kg/m/s\n",
    "        self.Cp = Cp # J/kg/K\n",
    "        self.beta = beta # 1/K\n",
    "        \n",
    "    @property\n",
    "    def Prandtl(self):\n",
    "        Pr = self.Cp * self.mu / self.lmbda\n",
    "        return Pr"
   ]
  },
  {
   "cell_type": "code",
   "execution_count": 46,
   "metadata": {},
   "outputs": [],
   "source": [
    "air = Gas( 1.29, 2.5e-2, 1.86e-5, 1.005e3, 3.67e-3 )"
   ]
  },
  {
   "cell_type": "code",
   "execution_count": 47,
   "metadata": {},
   "outputs": [
    {
     "data": {
      "text/plain": [
       "0.74772"
      ]
     },
     "execution_count": 47,
     "metadata": {},
     "output_type": "execute_result"
    }
   ],
   "source": [
    "air.Prandtl"
   ]
  },
  {
   "cell_type": "code",
   "execution_count": 157,
   "metadata": {},
   "outputs": [],
   "source": [
    "class Gap(object):\n",
    "    \n",
    "    def __init__(self, gas, thickness):\n",
    "        \n",
    "        self.gas = gas\n",
    "        self.w = thickness\n",
    "        \n",
    "    @property\n",
    "    def beta(self):\n",
    "        return 1/self.w\n",
    "        \n",
    "        \n",
    "    @beta.setter\n",
    "    def beta(self, val):\n",
    "        self.w = 1/val\n",
    "        \n",
    "    def Grashoff(self, deltaT):\n",
    "        deltaT = np.abs( deltaT )\n",
    "        gas = self.gas\n",
    "        Gr = g * gas.beta*gas.rho**2*self.w**3 / gas.mu**2 * deltaT\n",
    "        return Gr\n",
    "    \n",
    "    def Nusselt(self, deltaT):\n",
    "        \n",
    "        deltaT = np.asarray( deltaT )\n",
    "        \n",
    "        GrPr = self.gas.Prandtl * self.Grashoff( deltaT )\n",
    "\n",
    "        condlist = [ GrPr < 5e3,\n",
    "                     np.logical_and( GrPr>5e3 , GrPr<6e4 ),\n",
    "                     np.logical_and( GrPr>6e6 , GrPr<1.5e5 ), \n",
    "                     GrPr > 1.5e5  ]\n",
    "        funclist = [ 1,\n",
    "                     lambda x: 0.0429 * x**0.37 ,\n",
    "                     lambda x: 0.43 * x**0.16 ,\n",
    "                     lambda x: 0.0354 * x**0.37  ]\n",
    "        \n",
    "        Nu = np.piecewise(GrPr, condlist, funclist)\n",
    "\n",
    "        return Nu\n",
    "        \n",
    "    def h(self, deltaT):\n",
    "        \"\"\" conductance en W/m2/K\n",
    "        \"\"\"\n",
    "        h = self.gas.lmbda / self.w * self.Nusselt( deltaT )\n",
    "        return h"
   ]
  },
  {
   "cell_type": "code",
   "execution_count": 152,
   "metadata": {},
   "outputs": [],
   "source": [
    "my_gap = Gap( air, 1 )"
   ]
  },
  {
   "cell_type": "code",
   "execution_count": 153,
   "metadata": {},
   "outputs": [
    {
     "data": {
      "text/plain": [
       "2.0819365187167338"
      ]
     },
     "execution_count": 153,
     "metadata": {},
     "output_type": "execute_result"
    }
   ],
   "source": [
    "my_gap.h( -10 )"
   ]
  },
  {
   "cell_type": "code",
   "execution_count": 161,
   "metadata": {},
   "outputs": [
    {
     "data": {
      "image/png": "[encoded data removed]",
      "text/plain": [
       "<matplotlib.figure.Figure at 0x7f5cf787e780>"
      ]
     },
     "metadata": {},
     "output_type": "display_data"
    }
   ],
   "source": [
    "my_gap = Gap( air, 1e2 )\n",
    "\n",
    "deltaT = np.linspace( 0, 30, 100 )\n",
    "plt.plot( deltaT, my_gap.h( deltaT )*deltaT )\n",
    "plt.xlabel('deltaT (°C)'); plt.ylabel('h.deltaT (W/m2)');"
   ]
  },
  {
   "cell_type": "code",
   "execution_count": null,
   "metadata": {},
   "outputs": [],
   "source": []
  }
 ],
 "metadata": {
  "kernelspec": {
   "display_name": "Python Virtual Env.",
   "language": "python",
   "name": "py3"
  },
  "language_info": {
   "codemirror_mode": {
    "name": "ipython",
    "version": 3
   },
   "file_extension": ".py",
   "mimetype": "text/x-python",
   "name": "python",
   "nbconvert_exporter": "python",
   "pygments_lexer": "ipython3",
   "version": "3.5.2"
  }
 },
 "nbformat": 4,
 "nbformat_minor": 2
}
